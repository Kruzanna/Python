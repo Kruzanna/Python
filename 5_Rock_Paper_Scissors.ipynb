{
 "cells": [
  {
   "cell_type": "code",
   "execution_count": 1,
   "metadata": {},
   "outputs": [],
   "source": [
    "import random"
   ]
  },
  {
   "cell_type": "code",
   "execution_count": 2,
   "metadata": {},
   "outputs": [],
   "source": [
    "def play():\n",
    "    user = input(\"What \\'s you choice 'r' for rock, 'p' for paper and 's' for scissors\\n\")\n",
    "    computer = random.choice(['r','p','s'])\n",
    "    if user == computer:\n",
    "        return 'It\\'s a tie'\n",
    "    # r > s, s > p, p > r\n",
    "    if is_win(user, computer):\n",
    "        return 'You won!'\n",
    "    \n",
    "    return 'You lost!'"
   ]
  },
  {
   "cell_type": "code",
   "execution_count": 3,
   "metadata": {},
   "outputs": [],
   "source": [
    "def is_win(player,opponent):\n",
    "    #return true if player wins\n",
    "    # r > s, s > p, p > r\n",
    "    if (player == 'r' and opponent == 's') or (player == 's' and opponent == 'p') or (player == 'p' and opponent == 'r'):\n",
    "        return True"
   ]
  },
  {
   "cell_type": "code",
   "execution_count": 4,
   "metadata": {},
   "outputs": [
    {
     "name": "stdout",
     "output_type": "stream",
     "text": [
      "What 's you choice 'r' for rock, 'p' for paper and 's' for scissors\n",
      "s\n"
     ]
    },
    {
     "data": {
      "text/plain": [
       "'You lost!'"
      ]
     },
     "execution_count": 4,
     "metadata": {},
     "output_type": "execute_result"
    }
   ],
   "source": [
    "play()"
   ]
  },
  {
   "cell_type": "code",
   "execution_count": 5,
   "metadata": {},
   "outputs": [
    {
     "name": "stdout",
     "output_type": "stream",
     "text": [
      "What 's you choice 'r' for rock, 'p' for paper and 's' for scissors\n",
      "p\n"
     ]
    },
    {
     "data": {
      "text/plain": [
       "'You won!'"
      ]
     },
     "execution_count": 5,
     "metadata": {},
     "output_type": "execute_result"
    }
   ],
   "source": [
    "play()"
   ]
  },
  {
   "cell_type": "code",
   "execution_count": null,
   "metadata": {},
   "outputs": [],
   "source": []
  }
 ],
 "metadata": {
  "kernelspec": {
   "display_name": "Python 3",
   "language": "python",
   "name": "python3"
  },
  "language_info": {
   "codemirror_mode": {
    "name": "ipython",
    "version": 3
   },
   "file_extension": ".py",
   "mimetype": "text/x-python",
   "name": "python",
   "nbconvert_exporter": "python",
   "pygments_lexer": "ipython3",
   "version": "3.7.4"
  }
 },
 "nbformat": 4,
 "nbformat_minor": 2
}
