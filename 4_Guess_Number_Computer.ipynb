{
 "cells": [
  {
   "cell_type": "code",
   "execution_count": 1,
   "metadata": {},
   "outputs": [],
   "source": [
    "import random"
   ]
  },
  {
   "cell_type": "code",
   "execution_count": 2,
   "metadata": {},
   "outputs": [],
   "source": [
    "def computer_guess(x):\n",
    "    low = 1\n",
    "    high = x\n",
    "    feedback = ''\n",
    "    while feedback != 'c' and low != high:\n",
    "        if low != high:\n",
    "            guess = random.randint(low,high)\n",
    "        else:\n",
    "            guess = low\n",
    "        feedback = input(f'Is {guess} too high (H), too low (L) or correct (C)?? ').lower()\n",
    "        if feedback == 'h':\n",
    "            high =  guess - 1\n",
    "        elif feedback == 'l':\n",
    "            low = guess + 1\n",
    "    print(f'Yay! The computer guessed your number {guess}, correctly!')    \n",
    "            "
   ]
  },
  {
   "cell_type": "code",
   "execution_count": 3,
   "metadata": {},
   "outputs": [
    {
     "name": "stdout",
     "output_type": "stream",
     "text": [
      "Is 5 too high (H), too low (L) or correct (C)?? l\n",
      "Is 9 too high (H), too low (L) or correct (C)?? h\n",
      "Is 7 too high (H), too low (L) or correct (C)?? c\n",
      "Yay! The computer guessed your number 7, correctly!\n"
     ]
    }
   ],
   "source": [
    "computer_guess(10)"
   ]
  },
  {
   "cell_type": "code",
   "execution_count": null,
   "metadata": {},
   "outputs": [],
   "source": []
  }
 ],
 "metadata": {
  "kernelspec": {
   "display_name": "Python 3",
   "language": "python",
   "name": "python3"
  },
  "language_info": {
   "codemirror_mode": {
    "name": "ipython",
    "version": 3
   },
   "file_extension": ".py",
   "mimetype": "text/x-python",
   "name": "python",
   "nbconvert_exporter": "python",
   "pygments_lexer": "ipython3",
   "version": "3.7.4"
  }
 },
 "nbformat": 4,
 "nbformat_minor": 2
}
