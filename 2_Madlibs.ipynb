{
 "cells": [
  {
   "cell_type": "code",
   "execution_count": 1,
   "metadata": {},
   "outputs": [],
   "source": [
    "# string concatenation ( aka how to put strings together)\n",
    "#suppose we want to create a string that says \"subscribe to _______\"\n",
    "youtuber=\"Kruthika\" #some string variable"
   ]
  },
  {
   "cell_type": "code",
   "execution_count": 2,
   "metadata": {},
   "outputs": [
    {
     "name": "stdout",
     "output_type": "stream",
     "text": [
      "subscribe to Kruthika\n",
      "subscribe to Kruthika\n",
      "subscribe to Kruthika\n"
     ]
    }
   ],
   "source": [
    "#a few ways to do this\n",
    "print(\"subscribe to \" + youtuber)\n",
    "print(\"subscribe to {}\".format(youtuber))\n",
    "print(f\"subscribe to {youtuber}\")"
   ]
  },
  {
   "cell_type": "code",
   "execution_count": 3,
   "metadata": {},
   "outputs": [
    {
     "name": "stdout",
     "output_type": "stream",
     "text": [
      "Adjective: amazing\n",
      "verb: skydive\n",
      "verb2: jump\n",
      "Famous Person: spiderman\n",
      "Computer Programming is so amazing! It makes me so excited all the time coz I love to skydive. Stay hydrated and jump like you are spiderman.\n"
     ]
    }
   ],
   "source": [
    "adj = input(\"Adjective: \")\n",
    "verb1 = input(\"verb: \")\n",
    "verb2 = input(\"verb2: \")\n",
    "famousperson = input(\"Famous Person: \")\n",
    "madlib = f\"Computer Programming is so {adj}! It makes me so excited all the time coz I love to {verb1}. Stay hydrated and {verb2} like you are {famousperson}.\"\n",
    "print(madlib)"
   ]
  },
  {
   "cell_type": "code",
   "execution_count": null,
   "metadata": {},
   "outputs": [],
   "source": []
  }
 ],
 "metadata": {
  "kernelspec": {
   "display_name": "Python 3",
   "language": "python",
   "name": "python3"
  },
  "language_info": {
   "codemirror_mode": {
    "name": "ipython",
    "version": 3
   },
   "file_extension": ".py",
   "mimetype": "text/x-python",
   "name": "python",
   "nbconvert_exporter": "python",
   "pygments_lexer": "ipython3",
   "version": "3.7.4"
  }
 },
 "nbformat": 4,
 "nbformat_minor": 2
}
