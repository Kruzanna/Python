{
 "cells": [
  {
   "cell_type": "markdown",
   "metadata": {},
   "source": [
    "## Comments in Python"
   ]
  },
  {
   "cell_type": "code",
   "execution_count": 1,
   "metadata": {},
   "outputs": [],
   "source": [
    "# this is a comment\n",
    "### this is also a comment"
   ]
  },
  {
   "cell_type": "code",
   "execution_count": 2,
   "metadata": {},
   "outputs": [
    {
     "data": {
      "text/plain": [
       "'this is also a comment\\nbut this has multiple\\nlines and can have multiple \\nsentences and paragraphs\\n'"
      ]
     },
     "execution_count": 2,
     "metadata": {},
     "output_type": "execute_result"
    }
   ],
   "source": [
    "'''this is also a comment\n",
    "but this has multiple\n",
    "lines and can have multiple \n",
    "sentences and paragraphs\n",
    "'''"
   ]
  },
  {
   "cell_type": "markdown",
   "metadata": {},
   "source": [
    "To display output"
   ]
  },
  {
   "cell_type": "code",
   "execution_count": 3,
   "metadata": {},
   "outputs": [
    {
     "name": "stdout",
     "output_type": "stream",
     "text": [
      "hello world\n"
     ]
    }
   ],
   "source": [
    "print('hello world')"
   ]
  },
  {
   "cell_type": "code",
   "execution_count": 4,
   "metadata": {},
   "outputs": [
    {
     "data": {
      "text/plain": [
       "'HELLO WORLD'"
      ]
     },
     "execution_count": 4,
     "metadata": {},
     "output_type": "execute_result"
    }
   ],
   "source": [
    "'HELLO WORLD'"
   ]
  },
  {
   "cell_type": "code",
   "execution_count": 5,
   "metadata": {},
   "outputs": [
    {
     "name": "stdout",
     "output_type": "stream",
     "text": [
      "hello world\n"
     ]
    }
   ],
   "source": [
    "print(\"hello world\")"
   ]
  },
  {
   "cell_type": "code",
   "execution_count": 6,
   "metadata": {},
   "outputs": [
    {
     "name": "stdout",
     "output_type": "stream",
     "text": [
      "hello world\n",
      "multi line \n",
      "print\n"
     ]
    }
   ],
   "source": [
    "print('''hello world\n",
    "multi line \n",
    "print''')"
   ]
  },
  {
   "cell_type": "markdown",
   "metadata": {},
   "source": [
    "## ARITHMETIC IN PYTHON"
   ]
  },
  {
   "cell_type": "markdown",
   "metadata": {},
   "source": [
    "#### Basic Arithmetic in Python- 1)Numbers in Python - INTEGER(both +ve and -ve numbers), Floating Point number (decimal numbers) -2) Basic Arithmetic Operations"
   ]
  },
  {
   "cell_type": "code",
   "execution_count": 7,
   "metadata": {},
   "outputs": [
    {
     "name": "stdout",
     "output_type": "stream",
     "text": [
      "this is arithmetic add\n",
      "3\n",
      "7\n",
      "15\n"
     ]
    }
   ],
   "source": [
    "## To Print in Python\n",
    "##\n",
    "print(\"this is arithmetic add\")\n",
    "print(1+2)\n",
    "print(3+4)\n",
    "print(3+10+2)"
   ]
  },
  {
   "cell_type": "code",
   "execution_count": 8,
   "metadata": {},
   "outputs": [
    {
     "name": "stdout",
     "output_type": "stream",
     "text": [
      "3\n",
      "7\n"
     ]
    }
   ],
   "source": [
    "## Addition\n",
    "## recommend a print statement\n",
    "print(1 + 2)\n",
    "print(3 + 4)\n",
    "\n",
    "### the output of 3+4 overrides the output of 1+2"
   ]
  },
  {
   "cell_type": "code",
   "execution_count": 9,
   "metadata": {},
   "outputs": [
    {
     "data": {
      "text/plain": [
       "6"
      ]
     },
     "execution_count": 9,
     "metadata": {},
     "output_type": "execute_result"
    }
   ],
   "source": [
    "1+3\n",
    "4+2"
   ]
  },
  {
   "cell_type": "code",
   "execution_count": 10,
   "metadata": {},
   "outputs": [
    {
     "name": "stdout",
     "output_type": "stream",
     "text": [
      "-100\n",
      "11\n"
     ]
    }
   ],
   "source": [
    "### Subtraction\n",
    "print ( 100-200 )\n",
    "print(40-29)"
   ]
  },
  {
   "cell_type": "code",
   "execution_count": 11,
   "metadata": {},
   "outputs": [
    {
     "name": "stdout",
     "output_type": "stream",
     "text": [
      "30\n",
      "240\n"
     ]
    }
   ],
   "source": [
    "### Multiplication\n",
    "\n",
    "print(10*3)\n",
    "print(30*8)"
   ]
  },
  {
   "cell_type": "code",
   "execution_count": 12,
   "metadata": {},
   "outputs": [
    {
     "name": "stdout",
     "output_type": "stream",
     "text": [
      "0.6666666666666666\n",
      "-10.526315789473685\n",
      "10.0\n"
     ]
    }
   ],
   "source": [
    "### Division\n",
    "\n",
    "print(2/3)\n",
    "print(-200/19)\n",
    "print(-100/-10)"
   ]
  },
  {
   "cell_type": "code",
   "execution_count": 13,
   "metadata": {},
   "outputs": [
    {
     "name": "stdout",
     "output_type": "stream",
     "text": [
      "2.0\n"
     ]
    }
   ],
   "source": [
    "### Floor division ### Quotient\n",
    "## the // operator it trucates the decimal without roundind and returns only whole number\n",
    "\n",
    "print(7.0//3.5)"
   ]
  },
  {
   "cell_type": "code",
   "execution_count": 14,
   "metadata": {},
   "outputs": [
    {
     "name": "stdout",
     "output_type": "stream",
     "text": [
      "3.0\n"
     ]
    }
   ],
   "source": [
    "### Modulo -- remainder\n",
    "print(7.0 % 4)"
   ]
  },
  {
   "cell_type": "code",
   "execution_count": 15,
   "metadata": {},
   "outputs": [
    {
     "name": "stdout",
     "output_type": "stream",
     "text": [
      "15.0\n",
      "<class 'float'>\n"
     ]
    }
   ],
   "source": [
    "x=300/20\n",
    "print(x)\n",
    "print(type(x))"
   ]
  },
  {
   "cell_type": "code",
   "execution_count": 16,
   "metadata": {},
   "outputs": [
    {
     "name": "stdout",
     "output_type": "stream",
     "text": [
      "16\n"
     ]
    }
   ],
   "source": [
    "### powers\n",
    "print(2**4)"
   ]
  },
  {
   "cell_type": "code",
   "execution_count": 17,
   "metadata": {},
   "outputs": [
    {
     "name": "stdout",
     "output_type": "stream",
     "text": [
      "0.125\n"
     ]
    }
   ],
   "source": [
    "print(2**-3)"
   ]
  },
  {
   "cell_type": "code",
   "execution_count": 18,
   "metadata": {},
   "outputs": [
    {
     "name": "stdout",
     "output_type": "stream",
     "text": [
      "1.4142135623730951\n"
     ]
    }
   ],
   "source": [
    "print(2**0.5)"
   ]
  },
  {
   "cell_type": "code",
   "execution_count": 19,
   "metadata": {},
   "outputs": [
    {
     "name": "stdout",
     "output_type": "stream",
     "text": [
      "2.0\n"
     ]
    }
   ],
   "source": [
    "print(7/3.5)"
   ]
  },
  {
   "cell_type": "code",
   "execution_count": 20,
   "metadata": {},
   "outputs": [
    {
     "name": "stdout",
     "output_type": "stream",
     "text": [
      "2.0\n"
     ]
    }
   ],
   "source": [
    "print(4/2)"
   ]
  },
  {
   "cell_type": "code",
   "execution_count": 21,
   "metadata": {},
   "outputs": [
    {
     "name": "stdout",
     "output_type": "stream",
     "text": [
      "2\n"
     ]
    }
   ],
   "source": [
    "## Without decimal\n",
    "print(4//2)"
   ]
  },
  {
   "cell_type": "markdown",
   "metadata": {},
   "source": [
    "### BODMAS (Bracket, Orders(numbers involving powers and square root, division, multiplication,addition,subtraction))"
   ]
  },
  {
   "cell_type": "code",
   "execution_count": 22,
   "metadata": {},
   "outputs": [
    {
     "name": "stdout",
     "output_type": "stream",
     "text": [
      "105\n"
     ]
    }
   ],
   "source": [
    "print(2 + 10 * 10 + 3)"
   ]
  },
  {
   "cell_type": "code",
   "execution_count": 23,
   "metadata": {},
   "outputs": [
    {
     "name": "stdout",
     "output_type": "stream",
     "text": [
      "156\n"
     ]
    }
   ],
   "source": [
    "print((2+10)*(10+3))"
   ]
  },
  {
   "cell_type": "code",
   "execution_count": 24,
   "metadata": {},
   "outputs": [
    {
     "name": "stdout",
     "output_type": "stream",
     "text": [
      "5\n"
     ]
    }
   ],
   "source": [
    "print((2*3)+3**2-10)"
   ]
  },
  {
   "cell_type": "code",
   "execution_count": 25,
   "metadata": {},
   "outputs": [
    {
     "name": "stdout",
     "output_type": "stream",
     "text": [
      "5.551115123125783e-17\n"
     ]
    }
   ],
   "source": [
    "print((0.1+0.2)-(0.3))\n",
    "## ideally we should get a zero.\n",
    "## python and our computers follow what is called as \"floating point accuracy\"\n",
    "## even though for the naked eye, the answer is zero , python returns a number which extremely closer to zero, \n",
    "#### but not exactly zero\n",
    "#### 5.551115123125783e-17 can be translated as = 1/5.551115123125783 e**17"
   ]
  },
  {
   "cell_type": "code",
   "execution_count": 26,
   "metadata": {},
   "outputs": [
    {
     "data": {
      "text/plain": [
       "0.0"
      ]
     },
     "execution_count": 26,
     "metadata": {},
     "output_type": "execute_result"
    }
   ],
   "source": [
    "1.1-1.1"
   ]
  },
  {
   "cell_type": "code",
   "execution_count": 27,
   "metadata": {},
   "outputs": [],
   "source": [
    "### \n",
    "#1/(5.5511115120)e**17 =  0.000000000005511"
   ]
  },
  {
   "cell_type": "markdown",
   "metadata": {},
   "source": [
    "### Arithmetic in Python--- end"
   ]
  },
  {
   "cell_type": "markdown",
   "metadata": {},
   "source": [
    "#### Variables in Python\n",
    "Variables are objects that holds a value.\n",
    "eg: var1=100 ->100 is assigned to variable 'var1'\n",
    "\n",
    "#### internally what happens\n",
    "var1 is assigned an address in the memory and the value of 100 is assigned to var1.\n",
    "\n",
    "Rules in Python:\n",
    "Rules in Python for variable names The names you use when creating these labels need to follow a few rules:\n",
    "\n",
    "    1.Names can not start with a number.\n",
    "    2.There can be no spaces in the name, use _ instead. WRONG - VAR 1 RIGHT - VAR_1\n",
    "    3.Can't use any of these symbols :'\",<>/?|()!@#$%^&*~-+\n",
    "    4.It's considered best practice (PEP8) that names are lowercase.\n",
    "    5.Avoid using the characters 'l' (lowercase letter el), 'O' (uppercase letter oh), or 'I' (uppercase letter eye) as single character variable names.\n",
    "    6.Avoid using words that have special meaning in Python like \"list\" and \"str\"\n"
   ]
  },
  {
   "cell_type": "code",
   "execution_count": 28,
   "metadata": {},
   "outputs": [
    {
     "name": "stdout",
     "output_type": "stream",
     "text": [
      "5\n"
     ]
    }
   ],
   "source": [
    "### Let us create an object called myvar0 and assign number 5 to it\n",
    "myvar0 = 5\n",
    "print(myvar0)"
   ]
  },
  {
   "cell_type": "code",
   "execution_count": 29,
   "metadata": {},
   "outputs": [
    {
     "name": "stdout",
     "output_type": "stream",
     "text": [
      "100\n",
      "200\n",
      "3000\n"
     ]
    }
   ],
   "source": [
    "myvar00=100\n",
    "myvar01=200\n",
    "myVar02=3000\n",
    "print(myvar00)\n",
    "print(myvar01)\n",
    "print(myVar02)"
   ]
  },
  {
   "cell_type": "code",
   "execution_count": 30,
   "metadata": {},
   "outputs": [],
   "source": [
    "### definition of a variable happens during an assignment of a value in python.\n",
    "### assignment is giving value to a variable\n",
    "### Python is case sensitive"
   ]
  },
  {
   "cell_type": "code",
   "execution_count": 31,
   "metadata": {},
   "outputs": [
    {
     "ename": "NameError",
     "evalue": "name 'myvar02' is not defined",
     "output_type": "error",
     "traceback": [
      "\u001b[1;31m---------------------------------------------------------------------------\u001b[0m",
      "\u001b[1;31mNameError\u001b[0m                                 Traceback (most recent call last)",
      "\u001b[1;32m<ipython-input-31-903118e483eb>\u001b[0m in \u001b[0;36m<module>\u001b[1;34m\u001b[0m\n\u001b[1;32m----> 1\u001b[1;33m \u001b[0mprint\u001b[0m\u001b[1;33m(\u001b[0m\u001b[0mmyvar02\u001b[0m\u001b[1;33m)\u001b[0m\u001b[1;33m\u001b[0m\u001b[1;33m\u001b[0m\u001b[0m\n\u001b[0m",
      "\u001b[1;31mNameError\u001b[0m: name 'myvar02' is not defined"
     ]
    }
   ],
   "source": [
    "print(myvar02)"
   ]
  },
  {
   "cell_type": "code",
   "execution_count": null,
   "metadata": {},
   "outputs": [],
   "source": [
    "_var = 10\n",
    "print(_var)"
   ]
  },
  {
   "cell_type": "code",
   "execution_count": null,
   "metadata": {},
   "outputs": [],
   "source": [
    "my_var0=5\n",
    "print(my_var0)"
   ]
  },
  {
   "cell_type": "code",
   "execution_count": null,
   "metadata": {},
   "outputs": [],
   "source": [
    "#variable operation\n",
    "### variable addition/subtraction/multiplication/division/powers\n",
    "\n",
    "my_var0=50\n",
    "my_var1=100\n",
    "\n",
    "print(my_var0+my_var1)\n",
    "print(my_var1-my_var0)\n",
    "print(my_var1*my_var0)\n",
    "print(my_var0/my_var1)\n",
    "print(my_var1**my_var0)"
   ]
  },
  {
   "cell_type": "markdown",
   "metadata": {},
   "source": [
    "### Concept of Dynamic Typing in Python\n",
    "Type of variable will change based on the value assigned to the variable . It is very powerful, but can be abused if the programmer doesnot take enough precautions"
   ]
  },
  {
   "cell_type": "code",
   "execution_count": null,
   "metadata": {},
   "outputs": [],
   "source": [
    "my_new_var0=100\n",
    "print(my_new_var0)"
   ]
  },
  {
   "cell_type": "code",
   "execution_count": null,
   "metadata": {},
   "outputs": [],
   "source": [
    "## to check the data type of a variable\n",
    "type(my_new_var0)"
   ]
  },
  {
   "cell_type": "code",
   "execution_count": null,
   "metadata": {},
   "outputs": [],
   "source": [
    "##assign a decimal value to the variable my_new_var0\n",
    "my_new_var0 =199.99\n",
    "print(my_new_var0)"
   ]
  },
  {
   "cell_type": "code",
   "execution_count": null,
   "metadata": {},
   "outputs": [],
   "source": [
    "type(my_new_var0)"
   ]
  },
  {
   "cell_type": "code",
   "execution_count": null,
   "metadata": {},
   "outputs": [],
   "source": [
    "### create a string\n",
    "my_new_var0='this is a string'\n",
    "print(my_new_var0)"
   ]
  },
  {
   "cell_type": "code",
   "execution_count": null,
   "metadata": {},
   "outputs": [],
   "source": [
    "type(my_new_var0)"
   ]
  },
  {
   "cell_type": "code",
   "execution_count": null,
   "metadata": {},
   "outputs": [],
   "source": [
    "## assign a list to the variable which had string earlier\n",
    "my_new_var0=[1,2,3]\n",
    "print(my_new_var0)\n",
    "print(type(my_new_var0))"
   ]
  },
  {
   "cell_type": "markdown",
   "metadata": {},
   "source": [
    "### re assignment of variables\n",
    "Concept of operating with a variable and assigning the output of operation to the same variable"
   ]
  },
  {
   "cell_type": "code",
   "execution_count": null,
   "metadata": {},
   "outputs": [],
   "source": [
    "## reassignment\n",
    "my_var2=10\n",
    "my_var2=my_var2+my_var2\n",
    "print(my_var2)"
   ]
  },
  {
   "cell_type": "code",
   "execution_count": null,
   "metadata": {},
   "outputs": [],
   "source": [
    "type(my_var2)"
   ]
  },
  {
   "cell_type": "code",
   "execution_count": null,
   "metadata": {},
   "outputs": [],
   "source": [
    "print(my_var2*1000)"
   ]
  },
  {
   "cell_type": "code",
   "execution_count": null,
   "metadata": {},
   "outputs": [],
   "source": [
    "### to know the data type of a variable use type function\n",
    "print(type(my_var0))"
   ]
  },
  {
   "cell_type": "code",
   "execution_count": null,
   "metadata": {},
   "outputs": [],
   "source": [
    "my_var3 = 'this is a string'\n",
    "my_var4 = \"i am also a string\"\n",
    "print(my_var3)\n",
    "print(my_var4)\n",
    "print(type(my_var3))\n",
    "print(type(my_var4))"
   ]
  },
  {
   "cell_type": "code",
   "execution_count": null,
   "metadata": {},
   "outputs": [],
   "source": [
    "### python follows what is called as \"dynamic typing\" \n",
    "### based on the data assigned the type of the variable can change\n",
    "my_var4 = 10000\n",
    "print(my_var4)\n",
    "print(type(my_var4))"
   ]
  },
  {
   "cell_type": "code",
   "execution_count": null,
   "metadata": {},
   "outputs": [],
   "source": [
    "my_var4 = 999\n",
    "print(my_var4)\n",
    "print(type(my_var4))"
   ]
  },
  {
   "cell_type": "code",
   "execution_count": null,
   "metadata": {},
   "outputs": [],
   "source": [
    "my_var4 = '999'\n",
    "print(my_var4)\n",
    "print(type(my_var4))"
   ]
  },
  {
   "cell_type": "code",
   "execution_count": null,
   "metadata": {},
   "outputs": [],
   "source": [
    "my_var5 = ' second string '\n",
    "type(my_var5)"
   ]
  },
  {
   "cell_type": "code",
   "execution_count": null,
   "metadata": {},
   "outputs": [],
   "source": [
    "type(my_var4)"
   ]
  },
  {
   "cell_type": "code",
   "execution_count": null,
   "metadata": {},
   "outputs": [],
   "source": [
    "### string concatenation - two strings are added\n",
    "#### thumb rule for string concatenation is all the variables must be strings \n",
    "my_var6 = my_var4 + my_var5\n",
    "print(my_var6)\n",
    "print(type(my_var6))"
   ]
  },
  {
   "cell_type": "code",
   "execution_count": null,
   "metadata": {},
   "outputs": [],
   "source": [
    "### adding a variable of type string to a variable of type number \n",
    "### gives an erorr\n",
    "my_var7 = 100\n",
    "my_var8 = my_var6 + my_var7\n",
    "print(my_var8)\n",
    "\n",
    "### gives an error as below      "
   ]
  },
  {
   "cell_type": "code",
   "execution_count": null,
   "metadata": {},
   "outputs": [],
   "source": [
    "print(my_var6,my_var7)"
   ]
  },
  {
   "cell_type": "markdown",
   "metadata": {},
   "source": [
    "###### example of forced type conversion\n",
    "  converting from string to list"
   ]
  },
  {
   "cell_type": "code",
   "execution_count": null,
   "metadata": {},
   "outputs": [],
   "source": [
    "type(my_var6)"
   ]
  },
  {
   "cell_type": "code",
   "execution_count": null,
   "metadata": {},
   "outputs": [],
   "source": [
    "my_var6"
   ]
  },
  {
   "cell_type": "code",
   "execution_count": null,
   "metadata": {},
   "outputs": [],
   "source": [
    "print(my_var6)"
   ]
  },
  {
   "cell_type": "code",
   "execution_count": null,
   "metadata": {},
   "outputs": [],
   "source": [
    "### use list function to convert my_var6 string into a list\n",
    "my_var6= list(my_var6)"
   ]
  },
  {
   "cell_type": "code",
   "execution_count": null,
   "metadata": {},
   "outputs": [],
   "source": [
    "type(my_var6)"
   ]
  },
  {
   "cell_type": "code",
   "execution_count": null,
   "metadata": {},
   "outputs": [],
   "source": [
    "my_var6"
   ]
  },
  {
   "cell_type": "markdown",
   "metadata": {},
   "source": [
    "### VARIABLES IN PYTHON - END"
   ]
  },
  {
   "cell_type": "markdown",
   "metadata": {},
   "source": [
    "### Different data types in python\n",
    "\n",
    "    Strings\n",
    "    Lists\n",
    "    Tuples\n",
    "    Dictionary\n",
    "    Sets\n",
    "\n",
    "### Python Data Types are broadly classified as\n",
    "\n",
    "1) Mutable Data Types - Data types where individual items can be changed or updated Lists Dictionary\n",
    "\n",
    "2) Immutable Data Types -Data types where individual items cannot be changed or updated Numbers Strings Tuples\n"
   ]
  },
  {
   "cell_type": "code",
   "execution_count": null,
   "metadata": {},
   "outputs": [],
   "source": [
    "mystr = 'abc'"
   ]
  },
  {
   "cell_type": "code",
   "execution_count": null,
   "metadata": {},
   "outputs": [],
   "source": [
    "mystr[0] = 'z'"
   ]
  },
  {
   "cell_type": "markdown",
   "metadata": {},
   "source": [
    "### STRINGS IN PYTHON - START\n",
    "\n",
    "-both single and double quotes are allowed. -intermixing of single and double quotes in the same string is not allowed\n"
   ]
  },
  {
   "cell_type": "code",
   "execution_count": null,
   "metadata": {},
   "outputs": [],
   "source": [
    "### PRINTING A STRING WITHOUT A print function -- possible in jupyter\n",
    "'hello\"\n"
   ]
  },
  {
   "cell_type": "code",
   "execution_count": null,
   "metadata": {},
   "outputs": [],
   "source": [
    "## Printing with a print function\n",
    "print('hello')\n",
    "print(\"hello i am a string\")"
   ]
  },
  {
   "cell_type": "code",
   "execution_count": null,
   "metadata": {},
   "outputs": [],
   "source": [
    "### to print apostrophe\n",
    "print(\"hello, i am Kevin O'Donald\")\n",
    "\n",
    "### use of double quotes is imperative when we have strings with characters like apostrophe"
   ]
  },
  {
   "cell_type": "code",
   "execution_count": null,
   "metadata": {},
   "outputs": [],
   "source": [
    "mystr1= \"12305\"\n",
    "print(mystr1)\n",
    "print(type(mystr1))"
   ]
  },
  {
   "cell_type": "code",
   "execution_count": null,
   "metadata": {},
   "outputs": [],
   "source": [
    "### check the length of a string\n",
    "len(mystr1)"
   ]
  },
  {
   "cell_type": "markdown",
   "metadata": {},
   "source": [
    "### STRING INDEXING\n",
    "\n",
    "if we want to find specific characters in the string or do operations with every or all character in a string, indexing is used index in python starts at 0\n"
   ]
  },
  {
   "cell_type": "code",
   "execution_count": null,
   "metadata": {},
   "outputs": [],
   "source": [
    "mystr1 = 'hello world'\n",
    "print(mystr1)"
   ]
  },
  {
   "cell_type": "markdown",
   "metadata": {},
   "source": [
    "business use case for reverse index\n",
    "\n",
    "assume you are a business owner and you want to find the average daily sales for the month, start with today and go all the way to the first of the month\n",
    "\n",
    "1) create a list with daily sum sales as 1 item in the list 2) your list has 30 items (1 item per day , item is the value of avg sales) 3) list might look like this [100,200,300,400,0,200,500,300......]\n",
    "\n",
    "4) we want to calcualte avg sales starting from last day of the month go to first day 5) We can easily use reverse index, start with the last item and go all the way till first item in the list\n"
   ]
  },
  {
   "cell_type": "code",
   "execution_count": null,
   "metadata": {},
   "outputs": [],
   "source": [
    "### to find the length of string mystr1. length is inclusive of space\n",
    "len(mystr1)"
   ]
  },
  {
   "cell_type": "markdown",
   "metadata": {},
   "source": [
    "internal arrangement of characters and indexes in a string\n",
    "letter index reverse index\n",
    "\n",
    "    h 0 -11\n",
    "    e 1 -10\n",
    "    l 2 -9\n",
    "    l 3 -8\n",
    "    o 4 -7\n",
    "    5 -6\n",
    "    w 6 -5\n",
    "    o 7 -4\n",
    "    r 8 -3\n",
    "    l 9 -2\n",
    "    d 10 -1\n",
    "\n"
   ]
  },
  {
   "cell_type": "code",
   "execution_count": null,
   "metadata": {},
   "outputs": [],
   "source": [
    "### value of my string\n",
    "print(mystr1)"
   ]
  },
  {
   "cell_type": "code",
   "execution_count": null,
   "metadata": {},
   "outputs": [],
   "source": [
    "## length of mystring\n",
    "print(len(mystr1))"
   ]
  },
  {
   "cell_type": "code",
   "execution_count": null,
   "metadata": {},
   "outputs": [],
   "source": [
    "## type of my string\n",
    "print(type(mystr1))"
   ]
  },
  {
   "cell_type": "code",
   "execution_count": null,
   "metadata": {},
   "outputs": [],
   "source": [
    "### to get the first character of a string\n",
    "print(mystr1[0])"
   ]
  },
  {
   "cell_type": "code",
   "execution_count": null,
   "metadata": {},
   "outputs": [],
   "source": [
    "### to get the seecond char\n",
    "print(mystr1[1])"
   ]
  },
  {
   "cell_type": "code",
   "execution_count": null,
   "metadata": {},
   "outputs": [],
   "source": [
    "### to get the seecond char using reverse index\n",
    "print(mystr1[-10])"
   ]
  },
  {
   "cell_type": "code",
   "execution_count": null,
   "metadata": {},
   "outputs": [],
   "source": [
    "### using a reverse index extract h\n",
    "print(mystr1[-11])"
   ]
  },
  {
   "cell_type": "code",
   "execution_count": null,
   "metadata": {},
   "outputs": [],
   "source": [
    "### to extract w using index \n",
    "\n",
    "print(mystr1[6])\n",
    "\n",
    "### using reverse index\n",
    "print(mystr1[-5])"
   ]
  },
  {
   "cell_type": "code",
   "execution_count": null,
   "metadata": {},
   "outputs": [],
   "source": [
    "### extract space\n",
    "print(mystr1[5])\n",
    "print(mystr1[-6])"
   ]
  },
  {
   "cell_type": "code",
   "execution_count": null,
   "metadata": {},
   "outputs": [],
   "source": [
    "mystr1"
   ]
  },
  {
   "cell_type": "code",
   "execution_count": null,
   "metadata": {},
   "outputs": [],
   "source": [
    "## to extract o\n",
    "print(mystr1[4])  ##--- index\n",
    "print(mystr1[-7]) ## -- reverse index\n",
    "print(mystr1[7])  ## --index \n",
    "print(mystr1[-4]) ## -- reverse index"
   ]
  },
  {
   "cell_type": "code",
   "execution_count": null,
   "metadata": {},
   "outputs": [],
   "source": [
    "### to get the 4th character of a string\n",
    "print(mystr1[3])\n"
   ]
  },
  {
   "cell_type": "code",
   "execution_count": null,
   "metadata": {},
   "outputs": [],
   "source": [
    "### to get the last character of a string\n",
    "print(mystr1[10])\n",
    "print(mystr1[-1])"
   ]
  },
  {
   "cell_type": "code",
   "execution_count": null,
   "metadata": {},
   "outputs": [],
   "source": [
    "print(mystr1)"
   ]
  },
  {
   "cell_type": "markdown",
   "metadata": {},
   "source": [
    "### STRING SLICING\n",
    "\n",
    "    slicing captures a slice of a string\n",
    "\n",
    "    Format of slicing - stringname[start:stop:step]\n",
    "\n",
    "    start - index from where the slicing should start\n",
    "\n",
    "    stop - the index we will go up to but does not include\n",
    "\n",
    "    step - is the size of \"jump\" we take while slicing\n",
    "\n"
   ]
  },
  {
   "cell_type": "code",
   "execution_count": null,
   "metadata": {},
   "outputs": [],
   "source": [
    "mystr2 = 'abcdestring'"
   ]
  },
  {
   "cell_type": "markdown",
   "metadata": {},
   "source": [
    "index notation letter index reverse index a 0 -11 b 1 -10 c 2 -9 d 3 -8\n",
    "e 4 -7 s 5 -6 t 6 -5 r 7 -4 i 8 -3 n 9 -2 g 10 -1\n"
   ]
  },
  {
   "cell_type": "code",
   "execution_count": null,
   "metadata": {},
   "outputs": [],
   "source": [
    "print(mystr2)"
   ]
  },
  {
   "cell_type": "code",
   "execution_count": null,
   "metadata": {},
   "outputs": [],
   "source": [
    "### grab the portion of string representing \"destrin\"\n",
    "### start = 3, stop = 10\n",
    "print(mystr2[3:10])"
   ]
  },
  {
   "cell_type": "code",
   "execution_count": null,
   "metadata": {},
   "outputs": [],
   "source": [
    "# grab the portion of string representing \"destring\"\n",
    "## start =  3 , stop = 11\n",
    "print(mystr2[3:11])"
   ]
  },
  {
   "cell_type": "code",
   "execution_count": null,
   "metadata": {},
   "outputs": [],
   "source": [
    "### grab the portion of string representing \"des\"\n",
    "print(mystr2[3:6])"
   ]
  },
  {
   "cell_type": "code",
   "execution_count": null,
   "metadata": {},
   "outputs": [],
   "source": [
    "mystr2"
   ]
  },
  {
   "cell_type": "code",
   "execution_count": null,
   "metadata": {},
   "outputs": [],
   "source": [
    "### to grab - abcdes - 2 ways\n",
    "print(mystr2[0:6])\n",
    "\n",
    "### 2nd way\n",
    "print(mystr2[:6])"
   ]
  },
  {
   "cell_type": "code",
   "execution_count": null,
   "metadata": {},
   "outputs": [],
   "source": [
    "print(mystr2[-11:-5])"
   ]
  },
  {
   "cell_type": "code",
   "execution_count": null,
   "metadata": {},
   "outputs": [],
   "source": [
    "### to grab - cdestring - 2 ways\n",
    "print(mystr2[2:11])\n",
    "\n",
    "### 2nd way\n",
    "print(mystr2[2:])"
   ]
  },
  {
   "cell_type": "code",
   "execution_count": null,
   "metadata": {},
   "outputs": [],
   "source": [
    "### step example  - abcdestring\n",
    "###  start=0,stop=11, step=1 (default)\n",
    "print(mystr2[0:11:1])"
   ]
  },
  {
   "cell_type": "code",
   "execution_count": null,
   "metadata": {},
   "outputs": [],
   "source": [
    "### step example  - abcdestring\n",
    "\n",
    "print(mystr2[0:11:2])"
   ]
  },
  {
   "cell_type": "code",
   "execution_count": null,
   "metadata": {},
   "outputs": [],
   "source": [
    "### step example  -string\n",
    "print(mystr2[5:11])"
   ]
  },
  {
   "cell_type": "code",
   "execution_count": null,
   "metadata": {},
   "outputs": [],
   "source": [
    "###reverse index \n",
    "mystr2[0:-1]"
   ]
  },
  {
   "cell_type": "markdown",
   "metadata": {},
   "source": [
    "#### Mutability and Immutability\n",
    "\n",
    "Mutable types - lists, dictionary immutable types - strings, tuple\n"
   ]
  },
  {
   "cell_type": "code",
   "execution_count": null,
   "metadata": {},
   "outputs": [],
   "source": [
    "### STRING IMMUTABILITY\n",
    "\n",
    "mystr3 = \"python is easy to learn\"\n",
    "print(mystr3) "
   ]
  },
  {
   "cell_type": "code",
   "execution_count": null,
   "metadata": {},
   "outputs": [],
   "source": [
    "mystr3 = 'python is difficult to master'\n",
    "print(mystr3)"
   ]
  },
  {
   "cell_type": "code",
   "execution_count": null,
   "metadata": {},
   "outputs": [],
   "source": [
    "## to get the letter in index 2\n",
    "mystr3[2]"
   ]
  },
  {
   "cell_type": "code",
   "execution_count": null,
   "metadata": {},
   "outputs": [],
   "source": [
    "mystr3[0:6]"
   ]
  },
  {
   "cell_type": "code",
   "execution_count": null,
   "metadata": {},
   "outputs": [],
   "source": [
    "## if we try to change or update the 2nd index value from z to A\n",
    "\n",
    "mystr3[2] = 'A'\n",
    "\n",
    "### strings are immutable as a result..it cannot be changed"
   ]
  },
  {
   "cell_type": "markdown",
   "metadata": {},
   "source": [
    "### Built in Functions in Strings"
   ]
  },
  {
   "cell_type": "code",
   "execution_count": null,
   "metadata": {},
   "outputs": [],
   "source": [
    "### jupyter trick\n",
    "### to know about all the method() that can be used with strings,place the cursor after string and . \n",
    "### press tab key\n",
    "##mystr2."
   ]
  },
  {
   "cell_type": "code",
   "execution_count": null,
   "metadata": {},
   "outputs": [],
   "source": [
    "mystr2"
   ]
  },
  {
   "cell_type": "code",
   "execution_count": null,
   "metadata": {},
   "outputs": [],
   "source": [
    "### length of a string\n",
    "print(mystr2)\n",
    "print(len(mystr2))\n"
   ]
  },
  {
   "cell_type": "code",
   "execution_count": null,
   "metadata": {},
   "outputs": [],
   "source": [
    "### to convert a string from lower case to upper case\n",
    "print(mystr2)\n",
    "print(mystr2.upper())"
   ]
  },
  {
   "cell_type": "code",
   "execution_count": null,
   "metadata": {},
   "outputs": [],
   "source": [
    "### jupyter trick\n",
    "### to know about all the method() that can be used with strings,place the cursor after string and . \n",
    "### press tab key\n",
    "##mystr2."
   ]
  },
  {
   "cell_type": "code",
   "execution_count": null,
   "metadata": {},
   "outputs": [],
   "source": [
    "### convert to lower case\n",
    "mystr3 = \"I AM LOWER CASE\"\n",
    "print(mystr3.lower())\n",
    "\n",
    "### TO access python help for any method ..hit shift + tab"
   ]
  },
  {
   "cell_type": "code",
   "execution_count": null,
   "metadata": {},
   "outputs": [],
   "source": [
    "### another way to use methods in strings\n",
    "print(\"I AM ALSO LOWER CASE\".lower())"
   ]
  },
  {
   "cell_type": "code",
   "execution_count": null,
   "metadata": {},
   "outputs": [],
   "source": [
    "## TO convert the first character of the string to upper \n",
    "mystr4 = \"example of capitalize\"\n",
    "print(mystr4.capitalize())"
   ]
  },
  {
   "cell_type": "code",
   "execution_count": null,
   "metadata": {},
   "outputs": [],
   "source": [
    "###SPLIT  - splits the string into words\n",
    "## output is a list\n",
    "mystr5 = \"splits mystr5 to a list\"\n",
    "print(type(mystr5))\n",
    "print(mystr5)\n",
    "\n",
    "\n",
    "### after using split method on the string mystr5\n",
    "print('\\n')\n",
    "mystr5.split()\n",
    "print(mystr5)\n",
    "print(type(mystr5))\n",
    "\n",
    "### check for immutability of mystr5\n",
    "mystr5[4] = 'T'\n",
    "\n",
    "\n",
    "### to understand the parameters in the split() method, use jupyter's tricks press shift+tab"
   ]
  },
  {
   "cell_type": "code",
   "execution_count": null,
   "metadata": {},
   "outputs": [],
   "source": [
    "\n",
    "### after using split method on mystr5 and assigning it to a new variable mysplitlist\n",
    "print('\\n')\n",
    "mysplitlist = (mystr5.split())\n",
    "print(mysplitlist)\n",
    "print(type(mysplitlist))\n",
    "\n",
    "## CHECK FOR MUTABILITY OF A LIST\n",
    "mysplitlist[0] = 'SPLITS'\n",
    "print(mysplitlist)\n",
    "\n",
    "### lists are mutable"
   ]
  },
  {
   "cell_type": "code",
   "execution_count": null,
   "metadata": {},
   "outputs": [],
   "source": [
    "### split method using a separator\n",
    "mystr05 = \"python is a easy languge to learn and difficult to master\"\n",
    "mysplitstr = mystr05.split(maxsplit=3)\n",
    "print(mysplitstr)"
   ]
  },
  {
   "cell_type": "code",
   "execution_count": null,
   "metadata": {},
   "outputs": [],
   "source": [
    "### split method using a separator\n",
    "mystr05 = \"SPLIT;ME;PLEASE\"\n",
    "mysplitstr= mystr05.split()\n",
    "print(mysplitstr)"
   ]
  },
  {
   "cell_type": "code",
   "execution_count": null,
   "metadata": {},
   "outputs": [],
   "source": [
    "###SPLIT  - splits the string based on char \"E\" as delimiter\n",
    "mystr6 = \"SPLIT;ME;PLEASE\"\n",
    "mystr6.split(sep=';')"
   ]
  },
  {
   "cell_type": "code",
   "execution_count": null,
   "metadata": {},
   "outputs": [],
   "source": [
    "### To split by a specific element , splits the string based on the iterable giving within paranthesis\n",
    "### but removes the iterable from the output \n",
    "\n",
    "mystr7= \"split by a specific item in the string\"\n",
    "mystr7.split('it')"
   ]
  },
  {
   "cell_type": "code",
   "execution_count": null,
   "metadata": {},
   "outputs": [],
   "source": [
    "### swapcase() method swaps thee case of alphabetic characters\n",
    "mystr8 = \"THIS is an ExamPLE of SWAP case\"\n",
    "print(mystr8.swapcase())"
   ]
  },
  {
   "cell_type": "markdown",
   "metadata": {},
   "source": [
    "#### FIND and REPLACE in a STRING"
   ]
  },
  {
   "cell_type": "code",
   "execution_count": null,
   "metadata": {},
   "outputs": [],
   "source": [
    "### count gives the occrences of a given word or character in paranthesis\n",
    "\"find the occurrences of the word the\".count('the')"
   ]
  },
  {
   "cell_type": "code",
   "execution_count": null,
   "metadata": {},
   "outputs": [],
   "source": [
    "### count gives the occrences of a given word or character in paranthesis and in the first 10 characters of the string \n",
    "\n",
    "print(\"find the occurrences of the word the\".count('the',0,10))"
   ]
  },
  {
   "cell_type": "code",
   "execution_count": null,
   "metadata": {},
   "outputs": [],
   "source": [
    "### count gives the occrences of a given  character in paranthesis and in the first 20 characters of the string \n",
    "\n",
    "print(\"find the occurrences of the word the\".count('c',0,20))"
   ]
  },
  {
   "cell_type": "code",
   "execution_count": null,
   "metadata": {},
   "outputs": [],
   "source": [
    "### determine whether the target string ends with a given substring\n",
    "\n",
    "print('checks the target string ends with a given substring,like,end'.endswith('end'))"
   ]
  },
  {
   "cell_type": "code",
   "execution_count": null,
   "metadata": {},
   "outputs": [],
   "source": [
    "print('checks the target string ends with a given substring,like,end'.endswith('like'))"
   ]
  },
  {
   "cell_type": "markdown",
   "metadata": {},
   "source": [
    "#### classification"
   ]
  },
  {
   "cell_type": "code",
   "execution_count": null,
   "metadata": {},
   "outputs": [],
   "source": [
    "mystr9 = 'abc123'\n",
    "mystr10 = '12345%$#&'\n",
    "mystr11 = '1234.56'\n",
    "mystr12= 'ABcdE'\n",
    "mystr13='6789'"
   ]
  },
  {
   "cell_type": "code",
   "execution_count": null,
   "metadata": {},
   "outputs": [],
   "source": [
    "### to check if a string has all alphanumeric characters\n",
    "print(mystr9.isalnum())"
   ]
  },
  {
   "cell_type": "code",
   "execution_count": null,
   "metadata": {},
   "outputs": [],
   "source": [
    "### to check if a string has all alphanumeric characters\n",
    "print(mystr10.isalnum())"
   ]
  },
  {
   "cell_type": "code",
   "execution_count": null,
   "metadata": {},
   "outputs": [],
   "source": [
    "### to check if all characters are alphabets\n",
    "print(mystr9.isalpha())\n"
   ]
  },
  {
   "cell_type": "code",
   "execution_count": null,
   "metadata": {},
   "outputs": [],
   "source": [
    "### to check if all characters are alphabets\n",
    "print(mystr12.isalpha())"
   ]
  },
  {
   "cell_type": "code",
   "execution_count": null,
   "metadata": {},
   "outputs": [],
   "source": [
    "### checks if all the characters in a string is a digit or not\n",
    "print(mystr9)\n",
    "print(mystr9.isdigit())\n",
    " "
   ]
  },
  {
   "cell_type": "code",
   "execution_count": null,
   "metadata": {},
   "outputs": [],
   "source": [
    "### checks if the all the characters in a string is a digit or not\n",
    "print(mystr13)\n",
    "print(mystr13.isdigit())"
   ]
  },
  {
   "cell_type": "markdown",
   "metadata": {},
   "source": [
    "### Exercise\n",
    "\n",
    "1) try out every built-in function used with strings 2) pass a string to a variable , check for immutability, check for validations like alphanum, or alpha or digits. and if it has special characters\n"
   ]
  },
  {
   "cell_type": "code",
   "execution_count": null,
   "metadata": {},
   "outputs": [],
   "source": [
    "my_ex=\"This is my first test\""
   ]
  },
  {
   "cell_type": "code",
   "execution_count": null,
   "metadata": {},
   "outputs": [],
   "source": [
    "my_ex.isalnum()"
   ]
  },
  {
   "cell_type": "code",
   "execution_count": null,
   "metadata": {},
   "outputs": [],
   "source": [
    "my_ex.isalpha()"
   ]
  },
  {
   "cell_type": "code",
   "execution_count": null,
   "metadata": {},
   "outputs": [],
   "source": [
    "my_ex.isdigit()"
   ]
  },
  {
   "cell_type": "code",
   "execution_count": null,
   "metadata": {},
   "outputs": [],
   "source": [
    "my_ex[4]='Hi'"
   ]
  },
  {
   "cell_type": "code",
   "execution_count": null,
   "metadata": {},
   "outputs": [],
   "source": [
    "# import required package \n",
    "import re \n",
    "  \n",
    "# Function checks if the string \n",
    "# contains any special character \n",
    "def run(string): \n",
    "  \n",
    "    # Make own character set and pass  \n",
    "    # this as argument in compile method \n",
    "    regex = re.compile('[@_!#$%^&*()<>?/\\|}{~:]') \n",
    "      \n",
    "    # Pass the string in search  \n",
    "    # method of regex object.     \n",
    "    if(regex.search(string) == None): \n",
    "        print(\"String is not a special character\") \n",
    "          \n",
    "    else: \n",
    "        print(\"String is a special character.\") "
   ]
  },
  {
   "cell_type": "code",
   "execution_count": null,
   "metadata": {},
   "outputs": [],
   "source": [
    "run(my_ex)"
   ]
  },
  {
   "cell_type": "code",
   "execution_count": null,
   "metadata": {},
   "outputs": [],
   "source": []
  }
 ],
 "metadata": {
  "kernelspec": {
   "display_name": "Python 3",
   "language": "python",
   "name": "python3"
  },
  "language_info": {
   "codemirror_mode": {
    "name": "ipython",
    "version": 3
   },
   "file_extension": ".py",
   "mimetype": "text/x-python",
   "name": "python",
   "nbconvert_exporter": "python",
   "pygments_lexer": "ipython3",
   "version": "3.7.4"
  }
 },
 "nbformat": 4,
 "nbformat_minor": 2
}
