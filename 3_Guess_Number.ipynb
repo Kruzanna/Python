{
 "cells": [
  {
   "cell_type": "code",
   "execution_count": 1,
   "metadata": {},
   "outputs": [],
   "source": [
    "import random"
   ]
  },
  {
   "cell_type": "code",
   "execution_count": 2,
   "metadata": {},
   "outputs": [],
   "source": [
    "def guess(x):\n",
    "    random_number = random.randint(1,x)\n",
    "    guess = 0\n",
    "    while(guess != random_number):\n",
    "        guess = int(input(f\"Guess a number between 1 and {x}: \"))\n",
    "        if guess < random_number:\n",
    "            print('Sorry, guess again. Too low.')\n",
    "        elif guess > random_number:\n",
    "            print('Sorry, guess again. Too high.')\n",
    "    print(f'Yay, Congrats. You have guessed the random number {random_number} correctly.')"
   ]
  },
  {
   "cell_type": "code",
   "execution_count": 3,
   "metadata": {},
   "outputs": [
    {
     "name": "stdout",
     "output_type": "stream",
     "text": [
      "Guess a number between 1 and 10: 5\n",
      "Sorry, guess again. Too low.\n",
      "Guess a number between 1 and 10: 8\n",
      "Sorry, guess again. Too low.\n",
      "Guess a number between 1 and 10: 9\n",
      "Yay, Congrats. You have guessed the random number 9 correctly.\n"
     ]
    }
   ],
   "source": [
    "guess(10)"
   ]
  },
  {
   "cell_type": "code",
   "execution_count": null,
   "metadata": {},
   "outputs": [],
   "source": []
  }
 ],
 "metadata": {
  "kernelspec": {
   "display_name": "Python 3",
   "language": "python",
   "name": "python3"
  },
  "language_info": {
   "codemirror_mode": {
    "name": "ipython",
    "version": 3
   },
   "file_extension": ".py",
   "mimetype": "text/x-python",
   "name": "python",
   "nbconvert_exporter": "python",
   "pygments_lexer": "ipython3",
   "version": "3.7.4"
  }
 },
 "nbformat": 4,
 "nbformat_minor": 2
}
